{
 "cells": [
  {
   "cell_type": "code",
   "execution_count": 2,
   "id": "7f078229",
   "metadata": {},
   "outputs": [],
   "source": [
    "import torch\n",
    "import torch.nn as nn\n",
    "import numpy as np"
   ]
  },
  {
   "cell_type": "code",
   "execution_count": 38,
   "id": "9ec8889c",
   "metadata": {},
   "outputs": [],
   "source": [
    "#data\n",
    "x = np.linspace(-5, 5, 100)\n",
    "y =  0.5 * x**2 + np.random.normal(loc=0, scale=1, size=x.shape)\n",
    "z =  np.random.normal(size=x.shape)\n",
    "x_tensor = torch.tensor(x, dtype=torch.float32).unsqueeze(1)\n",
    "z_tensor = torch.tensor(z, dtype=torch.float32).unsqueeze(1)"
   ]
  },
  {
   "cell_type": "code",
   "execution_count": 39,
   "id": "ed5d7aa7",
   "metadata": {},
   "outputs": [],
   "source": [
    "class RegressionModel(nn.Module):\n",
    "    def __init__(self):\n",
    "        super(RegressionModel, self).__init__()\n",
    "        self.fc1 = nn.Linear(2, 64)\n",
    "        self.dropout1 = nn.Dropout(0.5)\n",
    "        self.fc2 = nn.Linear(64, 64)\n",
    "        self.dropout2 = nn.Dropout(0.5)\n",
    "        self.fc3 = nn.Linear(64, 1)\n",
    "\n",
    "    def forward(self, x,z):\n",
    "        x = torch.cat((x, z), dim=1)\n",
    "        x = torch.relu(self.fc1(x))\n",
    "        x = self.dropout1(x)\n",
    "        x = torch.relu(self.fc2(x))\n",
    "        x = self.dropout2(x)\n",
    "        x = self.fc3(x)\n",
    "        return x"
   ]
  },
  {
   "cell_type": "code",
   "execution_count": 40,
   "id": "154fc236",
   "metadata": {},
   "outputs": [],
   "source": [
    "model = RegressionModel()"
   ]
  },
  {
   "cell_type": "code",
   "execution_count": 41,
   "id": "e2bfb1fd",
   "metadata": {},
   "outputs": [],
   "source": [
    "with torch.no_grad():\n",
    "    outputs = model(x_tensor, z_tensor)"
   ]
  },
  {
   "cell_type": "code",
   "execution_count": null,
   "id": "bedc87e4",
   "metadata": {},
   "outputs": [],
   "source": [
    "'''\n",
    "Read the epistemic networks paper. \n",
    "Try out the following algorithm for computing uncertainties using only a forward pass. \n",
    "Given data \\{(x_i, y_i)\\}_{i = 1, ... , N}, construct auxiliary data points w_i = (x_i, z_i) \n",
    "where z_i \\sim N(0,1) then regress to learn a mapping \\hat{f} (x_i, z_i) \\approx y_i.  \n",
    "Adding a noisy dimension in the input should produce noise in the predictions if there is not enough data, \n",
    "once there is enough data we should learn a regression function that ignores z_i. \n",
    "Figure out if this works, and if it does if it is different or not from epistemic networks.\n",
    "'''"
   ]
  }
 ],
 "metadata": {
  "kernelspec": {
   "display_name": "Python 3 (ipykernel)",
   "language": "python",
   "name": "python3"
  },
  "language_info": {
   "codemirror_mode": {
    "name": "ipython",
    "version": 3
   },
   "file_extension": ".py",
   "mimetype": "text/x-python",
   "name": "python",
   "nbconvert_exporter": "python",
   "pygments_lexer": "ipython3",
   "version": "3.9.7"
  }
 },
 "nbformat": 4,
 "nbformat_minor": 5
}
