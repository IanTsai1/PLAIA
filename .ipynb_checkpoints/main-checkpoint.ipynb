{
 "cells": [
  {
   "cell_type": "code",
   "execution_count": 10,
   "id": "748118a5",
   "metadata": {},
   "outputs": [],
   "source": [
    "import torch\n",
    "import torch.nn as nn\n",
    "import numpy as np\n",
    "import torch.optim as optim"
   ]
  },
  {
   "cell_type": "code",
   "execution_count": 13,
   "id": "ba2c4fce",
   "metadata": {},
   "outputs": [],
   "source": [
    "#data\n",
    "x = np.linspace(-5, 5, 100)\n",
    "y =  0.5 * x**2 + np.random.normal(loc=0, scale=1, size=x.shape)\n",
    "z =  np.random.normal(size=x.shape)\n",
    "x_tensor = torch.tensor(x, dtype=torch.float32).unsqueeze(1)\n",
    "z_tensor = torch.tensor(z, dtype=torch.float32).unsqueeze(1)\n",
    "y_tensor = torch.tensor(y, dtype=torch.float32).unsqueeze(1)"
   ]
  },
  {
   "cell_type": "code",
   "execution_count": 11,
   "id": "cbd0b033",
   "metadata": {},
   "outputs": [],
   "source": [
    "class RegressionModel(nn.Module):\n",
    "    def __init__(self):\n",
    "        super(RegressionModel, self).__init__()\n",
    "        self.fc1 = nn.Linear(2, 64)\n",
    "        self.dropout1 = nn.Dropout(0.5)\n",
    "        self.fc3 = nn.Linear(64, 1)\n",
    "\n",
    "    def forward(self, x,z):\n",
    "        x = torch.cat((x, z), dim=1)\n",
    "        x = torch.relu(self.fc1(x))\n",
    "        x = self.dropout1(x)\n",
    "        x = self.fc3(x)\n",
    "        return x\n",
    "model = RegressionModel()"
   ]
  },
  {
   "cell_type": "code",
   "execution_count": 14,
   "id": "61cf76ad",
   "metadata": {},
   "outputs": [
    {
     "name": "stdout",
     "output_type": "stream",
     "text": [
      "Epoch [100/1000], Loss: 9.1970\n",
      "Epoch [200/1000], Loss: 5.3220\n",
      "Epoch [300/1000], Loss: 5.3516\n",
      "Epoch [400/1000], Loss: 3.5454\n",
      "Epoch [500/1000], Loss: 3.1970\n",
      "Epoch [600/1000], Loss: 3.5105\n",
      "Epoch [700/1000], Loss: 2.9248\n",
      "Epoch [800/1000], Loss: 2.4439\n",
      "Epoch [900/1000], Loss: 2.6116\n",
      "Epoch [1000/1000], Loss: 3.1819\n"
     ]
    }
   ],
   "source": [
    "criterion = nn.MSELoss()\n",
    "optimizer = optim.Adam(model.parameters(), lr=0.001)\n",
    "\n",
    "num_epochs = 1000\n",
    "for epoch in range(num_epochs):\n",
    "    model.train()\n",
    "    optimizer.zero_grad()\n",
    "    outputs = model(x_tensor, z_tensor)\n",
    "    loss = criterion(outputs, y_tensor)\n",
    "    loss.backward()\n",
    "    optimizer.step()\n",
    "\n",
    "    if (epoch+1) % 100 == 0:\n",
    "        print(f'Epoch [{epoch+1}/{num_epochs}], Loss: {loss.item():.4f}')\n"
   ]
  },
  {
   "cell_type": "code",
   "execution_count": 15,
   "id": "2dc035c6",
   "metadata": {},
   "outputs": [
    {
     "name": "stdout",
     "output_type": "stream",
     "text": [
      "Mean Squared Error: 27.1720\n"
     ]
    }
   ],
   "source": [
    "with torch.no_grad():\n",
    "    outputs = model(x_tensor, z_tensor)\n",
    "    \n",
    "predictions = outputs.numpy()\n",
    "y_test = y\n",
    "\n",
    "mse = np.mean((predictions - y_test) ** 2)\n",
    "print(f'Mean Squared Error: {mse:.4f}')"
   ]
  },
  {
   "cell_type": "code",
   "execution_count": null,
   "id": "d7f3a69c",
   "metadata": {},
   "outputs": [],
   "source": [
    "#with optimization + interval backprop"
   ]
  },
  {
   "cell_type": "code",
   "execution_count": 16,
   "id": "e0c58625",
   "metadata": {},
   "outputs": [
    {
     "name": "stdout",
     "output_type": "stream",
     "text": [
      "Parameter: fc1.weight, Shape: torch.Size([64, 2]), Initial Min: -0.7828218340873718, Initial Max: 0.7690463662147522\n",
      "Parameter: fc1.bias, Shape: torch.Size([64]), Initial Min: -1.0753276348114014, Initial Max: 0.7335678935050964\n",
      "Parameter: fc3.weight, Shape: torch.Size([1, 64]), Initial Min: -0.24152375757694244, Initial Max: 0.5410272479057312\n",
      "Parameter: fc3.bias, Shape: torch.Size([1]), Initial Min: 0.011565062217414379, Initial Max: 0.011565062217414379\n"
     ]
    }
   ],
   "source": [
    "for name, param in model.named_parameters():\n",
    "    print(f'Parameter: {name}, Shape: {param.shape}, Initial Min: {param.min().item()}, Initial Max: {param.max().item()}')"
   ]
  },
  {
   "cell_type": "code",
   "execution_count": null,
   "id": "6ec1da14",
   "metadata": {},
   "outputs": [],
   "source": []
  }
 ],
 "metadata": {
  "kernelspec": {
   "display_name": "Python 3 (ipykernel)",
   "language": "python",
   "name": "python3"
  },
  "language_info": {
   "codemirror_mode": {
    "name": "ipython",
    "version": 3
   },
   "file_extension": ".py",
   "mimetype": "text/x-python",
   "name": "python",
   "nbconvert_exporter": "python",
   "pygments_lexer": "ipython3",
   "version": "3.9.7"
  }
 },
 "nbformat": 4,
 "nbformat_minor": 5
}
