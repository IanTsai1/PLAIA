{
 "cells": [
  {
   "cell_type": "code",
   "execution_count": 17,
   "id": "748118a5",
   "metadata": {},
   "outputs": [],
   "source": [
    "import torch\n",
    "import torch.nn as nn\n",
    "import numpy as np\n",
    "import torch.optim as optim\n",
    "import pandas as pd\n",
    "from torch.utils.data import DataLoader, TensorDataset\n",
    "import matplotlib.pyplot as plt"
   ]
  },
  {
   "cell_type": "code",
   "execution_count": 25,
   "id": "ba2c4fce",
   "metadata": {},
   "outputs": [],
   "source": [
    "#z is used as the third feature\n",
    "def get_data(n_samples, noise_level=0.1):\n",
    "    np.random.seed(42)\n",
    "    x1 = np.random.normal(size=n_samples)\n",
    "    x2 = np.random.normal(size=n_samples)\n",
    "    z = np.random.normal(size=n_samples)  \n",
    "    y = 3 * x1 + 2 * x2 + noise_level * np.random.normal(size=n_samples)  \n",
    "    return pd.DataFrame({'x1': x1, 'x2': x2, 'z': z, 'y': y})\n",
    "\n",
    "datasets = [get_data(n) for n in list(np.arange(100,10000,500))]"
   ]
  },
  {
   "cell_type": "code",
   "execution_count": 26,
   "id": "cbd0b033",
   "metadata": {},
   "outputs": [],
   "source": [
    "class RegressionModel(nn.Module):\n",
    "    def __init__(self):\n",
    "        super(RegressionModel, self).__init__()\n",
    "        self.fc1 = nn.Linear(3, 64)\n",
    "        self.dropout1 = nn.Dropout(0.5)\n",
    "        self.fc3 = nn.Linear(64, 1)\n",
    "\n",
    "    def forward(self, x):\n",
    "        x = torch.relu(self.fc1(x))\n",
    "        x = self.dropout1(x)\n",
    "        x = self.fc3(x)\n",
    "        return x\n",
    "model = RegressionModel()"
   ]
  },
  {
   "cell_type": "code",
   "execution_count": 27,
   "id": "61cf76ad",
   "metadata": {},
   "outputs": [],
   "source": [
    "def train_model(model, train_loader, epochs=50):\n",
    "    criterion = nn.MSELoss()\n",
    "    optimizer = optim.Adam(model.parameters(), lr=0.001)\n",
    "    for epoch in range(epochs):\n",
    "        for inputs, targets in train_loader:\n",
    "            optimizer.zero_grad()\n",
    "            outputs = model(inputs)\n",
    "            loss = criterion(outputs, targets)\n",
    "            loss.backward()\n",
    "            optimizer.step()"
   ]
  },
  {
   "cell_type": "code",
   "execution_count": 28,
   "id": "ebe3fd0e",
   "metadata": {},
   "outputs": [],
   "source": [
    "models = []\n",
    "for data in datasets:\n",
    "    model = RegressionModel()\n",
    "    X = torch.tensor(data[['x1', 'x2', 'z']].values, dtype=torch.float32)\n",
    "    y = torch.tensor(data['y'].values, dtype=torch.float32).view(-1, 1)\n",
    "    dataset = TensorDataset(X, y)\n",
    "    train_loader = DataLoader(dataset, batch_size=32, shuffle=True)\n",
    "    train_model(model, train_loader)\n",
    "    models.append(model)"
   ]
  },
  {
   "cell_type": "code",
   "execution_count": 29,
   "id": "da54f575",
   "metadata": {},
   "outputs": [
    {
     "name": "stdout",
     "output_type": "stream",
     "text": [
      "Number of samples: 100, Sum of absolute weights for 'z': 19.20371437072754\n",
      "Number of samples: 600, Sum of absolute weights for 'z': 12.516820907592773\n",
      "Number of samples: 1100, Sum of absolute weights for 'z': 10.076457977294922\n",
      "Number of samples: 1600, Sum of absolute weights for 'z': 7.1930108070373535\n",
      "Number of samples: 2100, Sum of absolute weights for 'z': 4.6669206619262695\n",
      "Number of samples: 2600, Sum of absolute weights for 'z': 3.449390411376953\n",
      "Number of samples: 3100, Sum of absolute weights for 'z': 1.6971776485443115\n",
      "Number of samples: 3600, Sum of absolute weights for 'z': 1.3585221767425537\n",
      "Number of samples: 4100, Sum of absolute weights for 'z': 1.4702008962631226\n",
      "Number of samples: 4600, Sum of absolute weights for 'z': 0.9337210655212402\n",
      "Number of samples: 5100, Sum of absolute weights for 'z': 0.9736578464508057\n",
      "Number of samples: 5600, Sum of absolute weights for 'z': 0.9347670078277588\n",
      "Number of samples: 6100, Sum of absolute weights for 'z': 0.9530344009399414\n",
      "Number of samples: 6600, Sum of absolute weights for 'z': 0.7909914255142212\n",
      "Number of samples: 7100, Sum of absolute weights for 'z': 1.0343029499053955\n",
      "Number of samples: 7600, Sum of absolute weights for 'z': 0.8899660706520081\n",
      "Number of samples: 8100, Sum of absolute weights for 'z': 1.0487794876098633\n",
      "Number of samples: 8600, Sum of absolute weights for 'z': 1.0084338188171387\n",
      "Number of samples: 9100, Sum of absolute weights for 'z': 1.02617609500885\n",
      "Number of samples: 9600, Sum of absolute weights for 'z': 1.014623999595642\n"
     ]
    }
   ],
   "source": [
    "#as seen from the output, the weight of z has been decreasing hence it gets less irrelevant when the dataset increases\n",
    "def get_z_weight(model):\n",
    "    weights = model.fc1.weight.detach().numpy()\n",
    "    z_weight = weights[:, 2]  \n",
    "    return np.abs(z_weight).sum()\n",
    "\n",
    "z_weights = [get_z_weight(model) for model in models]\n",
    "\n",
    "for i, n in enumerate(list(np.arange(100,10000,500))):\n",
    "    print(f\"Number of samples: {n}, Sum of absolute weights for 'z': {z_weights[i]}\")"
   ]
  },
  {
   "cell_type": "code",
   "execution_count": 30,
   "id": "cb5f9866",
   "metadata": {},
   "outputs": [
    {
     "data": {
      "image/png": "[encoded data removed]",
      "text/plain": [
       "<Figure size 720x432 with 1 Axes>"
      ]
     },
     "metadata": {
      "needs_background": "light"
     },
     "output_type": "display_data"
    }
   ],
   "source": [
    "sample_sizes = list(np.arange(100,10000,500))\n",
    "plt.figure(figsize=(10, 6))\n",
    "plt.plot(sample_sizes, z_weights, marker='o', linestyle='-', color='b')\n",
    "plt.title(\"Sum of Absolute Weights for 'z' vs. Number of Samples\")\n",
    "plt.xlabel(\"Number of Samples\")\n",
    "plt.ylabel(\"Sum of Absolute Weights for 'z'\")\n",
    "plt.grid(True)\n",
    "plt.show()"
   ]
  },
  {
   "cell_type": "code",
   "execution_count": null,
   "id": "54c439b5",
   "metadata": {},
   "outputs": [],
   "source": []
  }
 ],
 "metadata": {
  "kernelspec": {
   "display_name": "Python 3 (ipykernel)",
   "language": "python",
   "name": "python3"
  },
  "language_info": {
   "codemirror_mode": {
    "name": "ipython",
    "version": 3
   },
   "file_extension": ".py",
   "mimetype": "text/x-python",
   "name": "python",
   "nbconvert_exporter": "python",
   "pygments_lexer": "ipython3",
   "version": "3.9.7"
  }
 },
 "nbformat": 4,
 "nbformat_minor": 5
}
